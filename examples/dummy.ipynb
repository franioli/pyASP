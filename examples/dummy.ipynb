{
 "cells": [
  {
   "cell_type": "code",
   "execution_count": 1,
   "metadata": {},
   "outputs": [
    {
     "ename": "ModuleNotFoundError",
     "evalue": "No module named 'asp'",
     "output_type": "error",
     "traceback": [
      "\u001b[0;31m---------------------------------------------------------------------------\u001b[0m",
      "\u001b[0;31mModuleNotFoundError\u001b[0m                       Traceback (most recent call last)",
      "Cell \u001b[0;32mIn[1], line 6\u001b[0m\n\u001b[1;32m      2\u001b[0m get_ipython()\u001b[38;5;241m.\u001b[39mrun_line_magic(\u001b[38;5;124m'\u001b[39m\u001b[38;5;124mautoreload\u001b[39m\u001b[38;5;124m'\u001b[39m, \u001b[38;5;124m'\u001b[39m\u001b[38;5;124m2\u001b[39m\u001b[38;5;124m'\u001b[39m)\n\u001b[1;32m      4\u001b[0m \u001b[38;5;28;01mfrom\u001b[39;00m \u001b[38;5;21;01mpathlib\u001b[39;00m \u001b[38;5;28;01mimport\u001b[39;00m Path\n\u001b[0;32m----> 6\u001b[0m \u001b[38;5;28;01mfrom\u001b[39;00m \u001b[38;5;21;01mpyasp\u001b[39;00m\u001b[38;5;21;01m.\u001b[39;00m\u001b[38;5;21;01mspot5pipeline\u001b[39;00m \u001b[38;5;28;01mimport\u001b[39;00m Spot5Pipeline\n\u001b[1;32m      8\u001b[0m config_path \u001b[38;5;241m=\u001b[39m Path(\u001b[38;5;124m\"\u001b[39m\u001b[38;5;124mconfig.yaml\u001b[39m\u001b[38;5;124m\"\u001b[39m)\n",
      "File \u001b[0;32m~/p/aletsch/pyasp/pyasp/spot5pipeline.py:3\u001b[0m\n\u001b[1;32m      1\u001b[0m \u001b[38;5;28;01mfrom\u001b[39;00m \u001b[38;5;21;01mpathlib\u001b[39;00m \u001b[38;5;28;01mimport\u001b[39;00m Path\n\u001b[0;32m----> 3\u001b[0m \u001b[38;5;28;01mfrom\u001b[39;00m \u001b[38;5;21;01masp\u001b[39;00m \u001b[38;5;28;01mimport\u001b[39;00m AmesStereoPipelineBase, AmesStereoPipelineError\n\u001b[1;32m      6\u001b[0m \u001b[38;5;28;01mclass\u001b[39;00m \u001b[38;5;21;01mSpot5Pipeline\u001b[39;00m(AmesStereoPipelineBase):\n\u001b[1;32m      7\u001b[0m     \u001b[38;5;28;01mdef\u001b[39;00m \u001b[38;5;21m__init__\u001b[39m(\u001b[38;5;28mself\u001b[39m, config_path: Path, asp_path: Path \u001b[38;5;241m=\u001b[39m \u001b[38;5;28;01mNone\u001b[39;00m):\n",
      "\u001b[0;31mModuleNotFoundError\u001b[0m: No module named 'asp'"
     ]
    }
   ],
   "source": [
    "%reload_ext autoreload\n",
    "%autoreload 2\n",
    "\n",
    "from pathlib import Path\n",
    "\n",
    "from pyasp.spot5pipeline import Spot5Pipeline\n",
    "\n",
    "config_path = Path(\"config.yaml\")"
   ]
  },
  {
   "cell_type": "code",
   "execution_count": 3,
   "metadata": {},
   "outputs": [
    {
     "name": "stderr",
     "output_type": "stream",
     "text": [
      "2024-10-02 15:17:30,804 [INFO] Executing command: add_spot_rpc img2/002-006_S5_053-256-0_2005-01-04-10-34-09_HRS-1_S_DT_TT/SCENE01/METADATA.DIM\n",
      "2024-10-02 15:17:31,079 [INFO] --> Setting number of processing threads to: 4\n",
      "2024-10-02 15:17:31,080 [INFO] Output path not provided, appending RPC model to the input metadata file.\n",
      "2024-10-02 15:17:45,813 [INFO] Min lon/lat/height coord: Vector3(7.30549,46.159,0)\n",
      "2024-10-02 15:17:45,814 [INFO] Max lon/lat/height coord: Vector3(9.02526,46.9571,8000)\n",
      "2024-10-02 15:17:45,815 [INFO] Attempting to project 8000 locations...\n",
      "2024-10-02 15:17:45,969 [INFO] Successfully projected 8000 locations.\n",
      "2024-10-02 15:17:46,894 [INFO] Writing: img2/002-006_S5_053-256-0_2005-01-04-10-34-09_HRS-1_S_DT_TT/SCENE01/METADATA.DIM\n",
      "2024-10-02 15:17:46,917 [INFO] Executing command: add_spot_rpc img2/002-006_S5_053-256-0_2005-01-04-10-35-40_HRS-2_S_DT_TT/SCENE01/METADATA.DIM\n",
      "2024-10-02 15:17:47,174 [INFO] --> Setting number of processing threads to: 4\n",
      "2024-10-02 15:17:47,175 [INFO] Output path not provided, appending RPC model to the input metadata file.\n",
      "2024-10-02 15:18:01,567 [INFO] Min lon/lat/height coord: Vector3(7.29152,46.1542,0)\n",
      "2024-10-02 15:18:01,567 [INFO] Max lon/lat/height coord: Vector3(9.00723,46.9659,8000)\n",
      "2024-10-02 15:18:01,568 [INFO] Attempting to project 8000 locations...\n",
      "2024-10-02 15:18:01,718 [INFO] Successfully projected 8000 locations.\n",
      "2024-10-02 15:18:03,389 [INFO] Writing: img2/002-006_S5_053-256-0_2005-01-04-10-35-40_HRS-2_S_DT_TT/SCENE01/METADATA.DIM\n"
     ]
    }
   ],
   "source": [
    "pipeline = Spot5Pipeline(config_path)\n",
    "\n",
    "data_dir = Path(\"img2\")\n",
    "front_dir = data_dir / \"002-006_S5_053-256-0_2005-01-04-10-34-09_HRS-1_S_DT_TT\"\n",
    "back_dir = data_dir / \"002-006_S5_053-256-0_2005-01-04-10-35-40_HRS-2_S_DT_TT\"\n",
    "front_scene = front_dir / \"SCENE01\"\n",
    "back_scene = back_dir / \"SCENE01\"\n",
    "\n",
    "front_metadata = front_scene / \"METADATA.DIM\"\n",
    "back_metadata = back_scene / \"METADATA.DIM\"\n",
    "\n",
    "pipeline.add_spot_rpc(metadata_dim=front_metadata)\n",
    "pipeline.add_spot_rpc(metadata_dim=back_metadata)"
   ]
  },
  {
   "cell_type": "code",
   "execution_count": 13,
   "metadata": {},
   "outputs": [],
   "source": [
    "front_metadata_link = front_scene / \"METADATA_FRONT.DIM\"\n",
    "\n",
    "\n",
    "if not front_metadata_link.exists():\n",
    "    front_metadata_link.symlink_to(front_scene / \"METADATA.DIM\")"
   ]
  },
  {
   "cell_type": "code",
   "execution_count": 15,
   "metadata": {},
   "outputs": [
    {
     "data": {
      "text/plain": [
       "PosixPath('img2/002-006_S5_053-256-0_2005-01-04-10-34-09_HRS-1_S_DT_TT/SCENE01/METADATA_FRONT.DIM')"
      ]
     },
     "execution_count": 15,
     "metadata": {},
     "output_type": "execute_result"
    }
   ],
   "source": [
    "front_metadata_link"
   ]
  },
  {
   "cell_type": "code",
   "execution_count": 14,
   "metadata": {},
   "outputs": [
    {
     "data": {
      "text/plain": [
       "PosixPath('img2/002-006_S5_053-256-0_2005-01-04-10-34-09_HRS-1_S_DT_TT/SCENE01/METADATA.DIM')"
      ]
     },
     "execution_count": 14,
     "metadata": {},
     "output_type": "execute_result"
    }
   ],
   "source": [
    "front_scene / \"METADATA.DIM\""
   ]
  },
  {
   "cell_type": "code",
   "execution_count": 12,
   "metadata": {},
   "outputs": [
    {
     "data": {
      "text/plain": [
       "PosixPath('img2/002-006_S5_053-256-0_2005-01-04-10-34-09_HRS-1_S_DT_TT/SCENE01/METADATA_FRONT.DIM')"
      ]
     },
     "execution_count": 12,
     "metadata": {},
     "output_type": "execute_result"
    }
   ],
   "source": [
    "front_metadata_link"
   ]
  },
  {
   "cell_type": "code",
   "execution_count": 9,
   "metadata": {},
   "outputs": [
    {
     "ename": "FileExistsError",
     "evalue": "[Errno 17] File exists: 'img2/002-006_S5_053-256-0_2005-01-04-10-34-09_HRS-1_S_DT_TT/SCENE01/METADATA.DIM' -> 'img2/002-006_S5_053-256-0_2005-01-04-10-34-09_HRS-1_S_DT_TT/SCENE01/METADATA_FRONT.DIM'",
     "output_type": "error",
     "traceback": [
      "\u001b[0;31m---------------------------------------------------------------------------\u001b[0m",
      "\u001b[0;31mFileExistsError\u001b[0m                           Traceback (most recent call last)",
      "Cell \u001b[0;32mIn[9], line 4\u001b[0m\n\u001b[1;32m      2\u001b[0m front_imagery_link \u001b[38;5;241m=\u001b[39m front_scene \u001b[38;5;241m/\u001b[39m \u001b[38;5;124m\"\u001b[39m\u001b[38;5;124mIMAGERY_FRONT.TIF\u001b[39m\u001b[38;5;124m\"\u001b[39m\n\u001b[1;32m      3\u001b[0m \u001b[38;5;28;01mif\u001b[39;00m \u001b[38;5;129;01mnot\u001b[39;00m front_metadata_link\u001b[38;5;241m.\u001b[39mexists():\n\u001b[0;32m----> 4\u001b[0m     \u001b[43mfront_metadata_link\u001b[49m\u001b[38;5;241;43m.\u001b[39;49m\u001b[43msymlink_to\u001b[49m\u001b[43m(\u001b[49m\u001b[43mfront_scene\u001b[49m\u001b[43m \u001b[49m\u001b[38;5;241;43m/\u001b[39;49m\u001b[43m \u001b[49m\u001b[38;5;124;43m\"\u001b[39;49m\u001b[38;5;124;43mMETADATA.DIM\u001b[39;49m\u001b[38;5;124;43m\"\u001b[39;49m\u001b[43m)\u001b[49m\n\u001b[1;32m      5\u001b[0m \u001b[38;5;28;01mif\u001b[39;00m \u001b[38;5;129;01mnot\u001b[39;00m front_imagery_link\u001b[38;5;241m.\u001b[39mexists():\n\u001b[1;32m      6\u001b[0m     front_imagery_link\u001b[38;5;241m.\u001b[39msymlink_to(front_scene \u001b[38;5;241m/\u001b[39m \u001b[38;5;124m\"\u001b[39m\u001b[38;5;124mIMAGERY.TIF\u001b[39m\u001b[38;5;124m\"\u001b[39m)\n",
      "File \u001b[0;32m~/miniconda3/envs/asp/lib/python3.10/pathlib.py:1255\u001b[0m, in \u001b[0;36mPath.symlink_to\u001b[0;34m(self, target, target_is_directory)\u001b[0m\n\u001b[1;32m   1250\u001b[0m \u001b[38;5;28;01mdef\u001b[39;00m \u001b[38;5;21msymlink_to\u001b[39m(\u001b[38;5;28mself\u001b[39m, target, target_is_directory\u001b[38;5;241m=\u001b[39m\u001b[38;5;28;01mFalse\u001b[39;00m):\n\u001b[1;32m   1251\u001b[0m \u001b[38;5;250m    \u001b[39m\u001b[38;5;124;03m\"\"\"\u001b[39;00m\n\u001b[1;32m   1252\u001b[0m \u001b[38;5;124;03m    Make this path a symlink pointing to the target path.\u001b[39;00m\n\u001b[1;32m   1253\u001b[0m \u001b[38;5;124;03m    Note the order of arguments (link, target) is the reverse of os.symlink.\u001b[39;00m\n\u001b[1;32m   1254\u001b[0m \u001b[38;5;124;03m    \"\"\"\u001b[39;00m\n\u001b[0;32m-> 1255\u001b[0m     \u001b[38;5;28;43mself\u001b[39;49m\u001b[38;5;241;43m.\u001b[39;49m\u001b[43m_accessor\u001b[49m\u001b[38;5;241;43m.\u001b[39;49m\u001b[43msymlink\u001b[49m\u001b[43m(\u001b[49m\u001b[43mtarget\u001b[49m\u001b[43m,\u001b[49m\u001b[43m \u001b[49m\u001b[38;5;28;43mself\u001b[39;49m\u001b[43m,\u001b[49m\u001b[43m \u001b[49m\u001b[43mtarget_is_directory\u001b[49m\u001b[43m)\u001b[49m\n",
      "\u001b[0;31mFileExistsError\u001b[0m: [Errno 17] File exists: 'img2/002-006_S5_053-256-0_2005-01-04-10-34-09_HRS-1_S_DT_TT/SCENE01/METADATA.DIM' -> 'img2/002-006_S5_053-256-0_2005-01-04-10-34-09_HRS-1_S_DT_TT/SCENE01/METADATA_FRONT.DIM'"
     ]
    }
   ],
   "source": [
    "front_imagery_link = front_scene / \"IMAGERY_FRONT.TIF\"\n",
    "\n",
    "if not front_imagery_link.exists():\n",
    "    front_imagery_link.symlink_to(front_scene / \"IMAGERY.TIF\")"
   ]
  },
  {
   "cell_type": "code",
   "execution_count": 4,
   "metadata": {},
   "outputs": [],
   "source": [
    "pipeline.create_symlinks(front_scene, back_scene)"
   ]
  },
  {
   "cell_type": "code",
   "execution_count": 5,
   "metadata": {},
   "outputs": [],
   "source": []
  },
  {
   "cell_type": "code",
   "execution_count": null,
   "metadata": {},
   "outputs": [],
   "source": []
  }
 ],
 "metadata": {
  "kernelspec": {
   "display_name": "asp",
   "language": "python",
   "name": "python3"
  },
  "language_info": {
   "codemirror_mode": {
    "name": "ipython",
    "version": 3
   },
   "file_extension": ".py",
   "mimetype": "text/x-python",
   "name": "python",
   "nbconvert_exporter": "python",
   "pygments_lexer": "ipython3",
   "version": "3.10.14"
  }
 },
 "nbformat": 4,
 "nbformat_minor": 2
}
